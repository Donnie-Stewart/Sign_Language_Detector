{
  "nbformat": 4,
  "nbformat_minor": 0,
  "metadata": {
    "colab": {
      "name": "Sign_language_CNN.ipynb",
      "provenance": [],
      "machine_shape": "hm",
      "collapsed_sections": [],
      "include_colab_link": true
    },
    "kernelspec": {
      "name": "python3",
      "display_name": "Python 3"
    },
    "language_info": {
      "name": "python"
    },
    "accelerator": "GPU"
  },
  "cells": [
    {
      "cell_type": "markdown",
      "metadata": {
        "id": "view-in-github",
        "colab_type": "text"
      },
      "source": [
        "<a href=\"https://colab.research.google.com/github/Donnie-Stewart/Sign_Language_Detector/blob/main/Sign_language_CNN.ipynb\" target=\"_parent\"><img src=\"https://colab.research.google.com/assets/colab-badge.svg\" alt=\"Open In Colab\"/></a>"
      ]
    },
    {
      "cell_type": "code",
      "metadata": {
        "id": "2IlwhV0z2nMr"
      },
      "source": [
        "%matplotlib inline"
      ],
      "execution_count": null,
      "outputs": []
    },
    {
      "cell_type": "markdown",
      "metadata": {
        "id": "Chprzdhe2nMw"
      },
      "source": [
        "# Sign Language Detector\n",
        "\n",
        "The goal of this project is to compare **Convolutional Neural Networks** tasked with detecting each letter of the ASL alphabet. Experiments and design is listed by the following:\n",
        "\n",
        "\n",
        "\n",
        "*   Process a corpus of ASL data. \n",
        "*   Train a CNN from scratch. \n",
        "  * Conduct tests for Hyperparameter Tuning. \n",
        "*   Create a comparison model via Transfer Learning. \n",
        "*   Detailed comparison between models. \n",
        "\n",
        "\n",
        "\n"
      ]
    },
    {
      "cell_type": "markdown",
      "metadata": {
        "id": "wyRMGyp9Y9c3"
      },
      "source": [
        "## Gesture Recognition using Convolutional Neural Networks\n",
        "\n",
        "\n",
        "American Sign Language (ASL) is a complete, complex language that employs signs made by moving the hands combined with facial expressions and postures of the body. It is the primary language of many North Americans who are deaf and is one of several communication options used by people who are deaf or hard-of-hearing.\n",
        "\n",
        "The hand gestures representing English alphabet are shown below. For this project, I will focus on classifying these hand gesture images using convolutional neural networks. Specifically, given an image of a hand showing one of the letters, I want to detect which letter is being represented.\n",
        "\n",
        "![](https://drive.google.com/uc?export=view&id=1bj2AP4R7bCV1CYDgSx193u4MqJG2SITM)\n",
        "\n",
        "\n",
        "\n",
        "\n",
        "\n"
      ]
    },
    {
      "cell_type": "code",
      "metadata": {
        "id": "iExiItBkdS8F"
      },
      "source": [
        "from pydrive.auth import GoogleAuth\n",
        "from pydrive.drive import GoogleDrive\n",
        "from google.colab import auth\n",
        "from oauth2client.client import GoogleCredentials\n",
        "import io\n",
        "import zipfile\n",
        "auth.authenticate_user()\n",
        "gauth = GoogleAuth()\n",
        "gauth.credentials = GoogleCredentials.get_application_default()\n",
        "drive = GoogleDrive(gauth)\n",
        "\n",
        "file_id = '1tcCJtyPTF8yjsi2D2-LVKYEmF7NMrGcj'\n",
        "downloaded = drive.CreateFile({'id': file_id})\n",
        "downloaded.GetContentFile('data.zip')\n",
        "\n",
        "zip_ref = zipfile.ZipFile(\"data.zip\", 'r')\n",
        "with zipfile.ZipFile('./data.zip', 'r') as zip_ref:\n",
        "    zip_ref.extractall('./')\n",
        "zip_ref.close()"
      ],
      "execution_count": 1,
      "outputs": []
    },
    {
      "cell_type": "markdown",
      "metadata": {
        "id": "a2wuuxOO0HuI"
      },
      "source": [
        "###Part A) Process a corpus of ASL data.\n",
        "\n",
        "Code cell above links to the data folder in my drive. Extracting yields \"asl_alphabet_train\" and \"asl_alphabet_test\". \n",
        "\n",
        "Below Porcesses the data: \n",
        "  - Organizes the 29 folders of data into 29 separate classes e.g. 'a-z', 'del', 'nothing', and 'space'.\n",
        "  - I wanted to rescale the pixel values of the training and test images from [0,255] to [0,1]. But found most convenient place was the first layer of the network. \n",
        "  - Ensured all of imges are of size $200\\times 200$. If one wasn't it would get re-scaled here. \n"
      ]
    },
    {
      "cell_type": "code",
      "metadata": {
        "id": "sJ8lTKEFnU5k"
      },
      "source": [
        "from os import listdir\n",
        "from os.path import isfile, join\n",
        "import numpy as np\n",
        "from PIL import Image\n",
        "import tensorflow as tf\n",
        "import matplotlib.pyplot as plt"
      ],
      "execution_count": 2,
      "outputs": []
    },
    {
      "cell_type": "code",
      "metadata": {
        "colab": {
          "base_uri": "https://localhost:8080/"
        },
        "id": "6An9NqY8TgrB",
        "outputId": "c94a6ab6-4e69-4f47-cf69-61ad0c7e5ccf"
      },
      "source": [
        "#used tf docs and this tutorial https://www.tensorflow.org/tutorials/load_data/images\n",
        "train_path = \"./asl_alphabet_train/asl_alphabet_train\"\n",
        "\n",
        "training_images = tf.keras.utils.image_dataset_from_directory(\n",
        "    train_path, \n",
        "    validation_split=0.2,\n",
        "    subset=\"training\",\n",
        "    label_mode='categorical', #for categorical croos entropy loss\n",
        "    color_mode='rgb', \n",
        "    batch_size=16, \n",
        "    image_size=(200, 200), \n",
        "    shuffle=True, \n",
        "    seed=123,\n",
        ")\n",
        "validation_images = tf.keras.utils.image_dataset_from_directory(\n",
        "    train_path, \n",
        "    validation_split=0.2,\n",
        "    subset=\"validation\",\n",
        "    label_mode='categorical', \n",
        "    color_mode='rgb', \n",
        "    batch_size=16, \n",
        "    image_size=(200, 200), \n",
        "    shuffle=True, \n",
        "    seed=123,\n",
        ")\n"
      ],
      "execution_count": 3,
      "outputs": [
        {
          "output_type": "stream",
          "name": "stdout",
          "text": [
            "Found 87000 files belonging to 29 classes.\n",
            "Using 69600 files for training.\n",
            "Found 87000 files belonging to 29 classes.\n",
            "Using 17400 files for validation.\n"
          ]
        }
      ]
    },
    {
      "cell_type": "markdown",
      "metadata": {
        "id": "v8Ux3Knk3H74"
      },
      "source": [
        "### Part B) Building and Training a Convolutional Neural Network from scratch\n",
        "\n",
        "---\n"
      ]
    },
    {
      "cell_type": "markdown",
      "metadata": {
        "id": "KCPYVJO44BWw"
      },
      "source": [
        "#### Step 1) Building the Network\n",
        "- CNN takes ($200\\times 200$ RGB) image as input. \n",
        "- Maps each color channel to be between 0/1\n",
        "- Extracts features with Conv2D layers\n",
        "- Reduces dimensionality with pooling layers\n",
        "- Flatten layer is used convert matrix to dense input. \n",
        "- Dense layers are used to predict classes based on feature extraction. \n",
        "- Predicts on the 29 classes. \n"
      ]
    },
    {
      "cell_type": "markdown",
      "metadata": {
        "id": "7arv3llO5e6u"
      },
      "source": [
        "#### Step 2) Training the Network\n",
        "Hyperparameter tuning is a significant challenge of training a model from scratch. Having a function that meakes it easy to tweak parameters and plot results is very helpful.\n"
      ]
    },
    {
      "cell_type": "code",
      "metadata": {
        "id": "fV1ntQiW5vRf"
      },
      "source": [
        "def train_CNN(train_data,val_data, opt=\"adam\", a='relu', e=5, l=tf.losses.CategoricalCrossentropy(), filter=32, kernel=3):\n",
        "\n",
        "    model = tf.keras.Sequential([\n",
        "    tf.keras.layers.Rescaling(1./255, input_shape = (200,200,3)),\n",
        "    tf.keras.layers.Conv2D(filter, kernel, activation=a),\n",
        "    tf.keras.layers.MaxPooling2D(),\n",
        "    tf.keras.layers.Conv2D(filter+32, kernel, activation=a),\n",
        "    tf.keras.layers.MaxPooling2D(),\n",
        "    tf.keras.layers.Conv2D(filter, kernel, activation=a),\n",
        "    tf.keras.layers.MaxPooling2D(),\n",
        "    tf.keras.layers.Flatten(),\n",
        "    tf.keras.layers.Dense(128, activation=a),\n",
        "    tf.keras.layers.Dense(29, activation = 'softmax'),\n",
        "    ])\n",
        "\n",
        "    model.compile( optimizer=opt, loss=l, metrics=['accuracy'])\n",
        "\n",
        "    history = model.fit( train_data, validation_data=val_data, epochs=e, verbose = 0)\n",
        "\n",
        "    return history \n"
      ],
      "execution_count": 4,
      "outputs": []
    },
    {
      "cell_type": "code",
      "metadata": {
        "colab": {
          "base_uri": "https://localhost:8080/",
          "height": 313
        },
        "id": "aEYUVLjGc432",
        "outputId": "dd9c169c-6594-4e60-bcb1-d1f491f01cdb"
      },
      "source": [
        "hist = train_CNN( training_images, validation_images)\n",
        "# print(model.summary())\n",
        "\n",
        "plt.plot(hist.history['accuracy'] )\n",
        "plt.plot(hist.history['val_accuracy'] )\n",
        "\n",
        "plt.title(' model accuracy')\n",
        "plt.ylabel('accuracy')\n",
        "plt.xlabel('epoch')\n",
        "plt.legend([\"train\", \"validation\"], loc='upper left')\n",
        "plt.show()\n",
        "print(hist.history[\"accuracy\"])"
      ],
      "execution_count": 5,
      "outputs": [
        {
          "output_type": "display_data",
          "data": {
            "text/plain": [
              "<Figure size 432x288 with 1 Axes>"
            ],
            "image/png": "[encoded data removed]"
          },
          "metadata": {
            "needs_background": "light"
          }
        },
        {
          "output_type": "stream",
          "name": "stdout",
          "text": [
            "[0.8021408319473267, 0.968635082244873, 0.9800718426704407, 0.9857615232467651, 0.9902011752128601]\n"
          ]
        }
      ]
    },
    {
      "cell_type": "markdown",
      "metadata": {
        "id": "WUFE8Akq5x2M"
      },
      "source": [
        "When searching for the loss function I read through the tensorflow documentation for the most likely candidate. I set up the data for categorical input in one-hot encoded form and the corresponding loss function is categorical_cross_entropy(). I chose the adam optimizer mainly because in reasearching other models and tutorials I found it to be the most common. Then, when I tested it myself it consistently outperformed the other optimizers. Filter sizes in powers of 2 are expected to have more efficient performance based one some blog posts online. \n",
        "\n",
        "Lastly, the model from scratch can achieve >99% accuracy on this dataset when tested on 29 classes for 5 epochs. "
      ]
    },
    {
      "cell_type": "markdown",
      "metadata": {
        "id": "dShVlLyX6DFj"
      },
      "source": [
        "#### Step 3) Overfit to A Small Dataset\n",
        "\n",
        "One way to sanity check the neural network model and training code is to check whether the model is capable of overfitting or memorizing a small dataset. A properly constructed CNN with correct training code should be able to memorize the answers to a small number of images quickly.\n",
        "\n",
        "After constructing a small sample of the dataset, I retrain the model in the exact same way for many epochs to see if my model from scratch can memorize all of the labels. \n",
        "\n",
        "\n",
        "With a large batch size (e.g. the entire small dataset) and a learning rate that is not too high, the model should be able to obtain a 100% training accuracy on that small dataset relatively quickly."
      ]
    },
    {
      "cell_type": "code",
      "metadata": {
        "id": "dVY46l4A5_Dy",
        "colab": {
          "base_uri": "https://localhost:8080/"
        },
        "outputId": "5b19c839-afe2-4c90-e774-0ad56ac15547"
      },
      "source": [
        "#small set \n",
        "small_set = training_images.take(20) #20 batches of data (20*16 = image amount)\n",
        "history = train_CNN( small_set, small_set, e = 50)\n",
        "#if 1.0 in train and val return true\n",
        "if 1.0 in history.history[\"val_accuracy\"] and 1.0 in history.history[\"accuracy\"]:\n",
        "    print(\"sanity check passed\")"
      ],
      "execution_count": 6,
      "outputs": [
        {
          "output_type": "stream",
          "name": "stdout",
          "text": [
            "sanity check passed\n"
          ]
        }
      ]
    },
    {
      "cell_type": "markdown",
      "metadata": {
        "id": "OXdVut4462qR"
      },
      "source": [
        "#### Step 4) Hyperparameter Search\n",
        "\n",
        " Here I test and plot 3 hyperparameters - amount of filters, kernal size, and optimizers. I tested 4 instances of each using the helper function above. After plotting and determining the best in each category, I updated the defaults to the helper function above. More specific details are below. \n",
        "\n",
        "\n",
        "\n",
        "\n",
        "\n"
      ]
    },
    {
      "cell_type": "code",
      "metadata": {
        "id": "Q86pN2Tw7UmW",
        "colab": {
          "base_uri": "https://localhost:8080/",
          "height": 295
        },
        "outputId": "00c1f500-9050-432f-85c7-108717ff2021"
      },
      "source": [
        "######### filter tests ###############\n",
        "filters = [8,16,32,64]\n",
        "f_history = []\n",
        "for f in filters:\n",
        "    f_history.append(train_CNN( training_images, validation_images, filter=f))\n",
        "for fh in f_history:\n",
        "    plt.plot(fh.history['accuracy'])\n",
        "plt.title('filter models accuracy')\n",
        "plt.ylabel('accuracy')\n",
        "plt.xlabel('epoch')\n",
        "plt.legend([str(f) for f in filters], loc='upper left')\n",
        "plt.show()\n"
      ],
      "execution_count": 7,
      "outputs": [
        {
          "output_type": "display_data",
          "data": {
            "text/plain": [
              "<Figure size 432x288 with 1 Axes>"
            ],
            "image/png": "[encoded data removed]"
          },
          "metadata": {
            "needs_background": "light"
          }
        }
      ]
    },
    {
      "cell_type": "code",
      "metadata": {
        "colab": {
          "base_uri": "https://localhost:8080/",
          "height": 295
        },
        "id": "Q9euNr9kZU_g",
        "outputId": "dfd31642-5a56-4f56-e5d8-3e23cfa0889c"
      },
      "source": [
        "#### kernel tests ###################\n",
        "kernels = [2,3,5,10]\n",
        "k_history = []\n",
        "for k in kernels:\n",
        "    k_history.append(train_CNN( training_images, validation_images, kernel=k))\n",
        "\n",
        "for kh in k_history:\n",
        "    plt.plot(kh.history['accuracy'])\n",
        "plt.title('kernel models accuracy')\n",
        "plt.ylabel('accuracy')\n",
        "plt.xlabel('epoch')\n",
        "plt.legend([str(k) for k in kernels], loc='upper left')\n",
        "plt.show()"
      ],
      "execution_count": 8,
      "outputs": [
        {
          "output_type": "display_data",
          "data": {
            "text/plain": [
              "<Figure size 432x288 with 1 Axes>"
            ],
            "image/png": "[encoded data removed]"
          },
          "metadata": {
            "needs_background": "light"
          }
        }
      ]
    },
    {
      "cell_type": "code",
      "metadata": {
        "colab": {
          "base_uri": "https://localhost:8080/",
          "height": 295
        },
        "id": "NdGtdId5ZViC",
        "outputId": "a44d1033-3517-43e0-c411-6f169e142eb9"
      },
      "source": [
        "####### optimizers #########\n",
        "opt = ['adam', 'adagrad', 'adamax', 'rmsprop']\n",
        "o_history = []\n",
        "for o in opt:\n",
        "    o_history.append(train_CNN( training_images, validation_images, opt=o))\n",
        "\n",
        "for oh in o_history:\n",
        "    plt.plot(oh.history['accuracy'])\n",
        "plt.title('optimizers models accuracy')\n",
        "plt.ylabel('accuracy')\n",
        "plt.xlabel('epoch')\n",
        "plt.legend([o for o in opt], loc='upper left')\n",
        "plt.show()"
      ],
      "execution_count": 9,
      "outputs": [
        {
          "output_type": "display_data",
          "data": {
            "text/plain": [
              "<Figure size 432x288 with 1 Axes>"
            ],
            "image/png": "[encoded data removed]"
          },
          "metadata": {
            "needs_background": "light"
          }
        }
      ]
    },
    {
      "cell_type": "markdown",
      "metadata": {
        "id": "vlfZqKrW7YJu"
      },
      "source": [
        "\n",
        "I tested filters, kernels, and different optimizers. The best model I found was using the adam optimizer, 3x3 kernel, and 32 filters. For the optimizer and kernel tests, most values I tried were in a very tight range but with one outlier each. The outliers were adagrad and 10x10  respectively. I opted to test filters in increasing powers of 2, because one source described potential efficiency benefits of doing so. When testing the various filters, 32 had the best accuracy and in this test the difference between the best and second best accuracy was the most dramatic. The best accuracy I achieved is approx 99.05 and that value is printed above. "
      ]
    },
    {
      "cell_type": "markdown",
      "metadata": {
        "id": "L6t_qjLr7-uf"
      },
      "source": [
        "Transfer Learning\n",
        "---\n",
        "For many image classification tasks, it is generally not a good idea to train a very large deep neural network model from scratch due to the enormous compute requirements and lack of sufficient amounts of training data.\n",
        "\n",
        "One of the better options is to try using an existing model that performs a similar task to the one you need to solve. This method of utilizing a pre-trained network for other similar tasks is broadly termed Transfer Learning. Using Transfer Learning to extract features from the hand gesture images, then training a smaller network to use these features as input and classify the hand gestures - is how transfer learning is applied to this use case. Additionaly, this process works by utilizing heavily trained convolution layers to extract the necessary features from the images which then get processed by fully-connected layers for the new tasks classification. \n",
        "\n"
      ]
    },
    {
      "cell_type": "markdown",
      "metadata": {
        "id": "UHk-PPM8KfZW"
      },
      "source": [
        "Keras even has pretrained models built in for this purpose. \n",
        "\n",
        "#### Keras Pretrained Models\n",
        "        Xception\n",
        "        VGG16\n",
        "        VGG19\n",
        "        ResNet, ResNetV2, ResNeXt\n",
        "        InceptionV3\n",
        "        InceptionResNetV2\n",
        "        MobileNet\n",
        "        MobileNetV2\n",
        "        DenseNet\n",
        "        NASNet\n",
        "\n",
        "Usually one uses the layers of the pretrained model up to some point, and then creates some fully connected layers to learn the desired recognition task. The earlier layers are \"frozen\", and only the later layers need to be trained. For this task I'll use VGG16, which was trained to recognize 1000 objects in ImageNet. "
      ]
    },
    {
      "cell_type": "code",
      "metadata": {
        "id": "Z7CNXqACKgQz"
      },
      "source": [
        "from tensorflow.keras.layers import Input\n",
        "from tensorflow.keras.applications.vgg16 import VGG16, preprocess_input\n",
        "from tensorflow.keras.preprocessing import image\n",
        "from tensorflow.keras.models import Model"
      ],
      "execution_count": 10,
      "outputs": []
    },
    {
      "cell_type": "markdown",
      "metadata": {
        "id": "F4FK6jBJKxcC"
      },
      "source": [
        "Creating this pretrained network is a one line command. Notice how it is specified that the \"top\" should not be included. The top layer is exluded because I am classifying only 29 classes, rather than the 1000 categories in ImageNet.  I will add my own layer more suited to the task at hand.\n"
      ]
    },
    {
      "cell_type": "code",
      "metadata": {
        "id": "KR7DziD7KqEX",
        "colab": {
          "base_uri": "https://localhost:8080/"
        },
        "outputId": "852c891d-d149-4ba4-a4e5-d411bb1e07c3"
      },
      "source": [
        "# Import the VGG16 trained neural network model, minus its last (top) neuron layer.\n",
        "base_model = VGG16(weights = 'imagenet', \n",
        "                   include_top = False, \n",
        "                   input_shape = (200, 200, 3), \n",
        "                   pooling = None)"
      ],
      "execution_count": 11,
      "outputs": [
        {
          "output_type": "stream",
          "name": "stdout",
          "text": [
            "Downloading data from https://storage.googleapis.com/tensorflow/keras-applications/vgg16/vgg16_weights_tf_dim_ordering_tf_kernels_notop.h5\n",
            "58892288/58889256 [==============================] - 2s 0us/step\n",
            "58900480/58889256 [==============================] - 2s 0us/step\n"
          ]
        }
      ]
    },
    {
      "cell_type": "markdown",
      "metadata": {
        "id": "B6HReXu8K3wh"
      },
      "source": [
        "A summary of this pretrained model:"
      ]
    },
    {
      "cell_type": "code",
      "metadata": {
        "id": "gPhnajBAKyKm",
        "colab": {
          "base_uri": "https://localhost:8080/"
        },
        "outputId": "965945b0-1e0e-4e9d-86e9-c4f04d6c7bd9"
      },
      "source": [
        "base_model.summary()"
      ],
      "execution_count": 12,
      "outputs": [
        {
          "output_type": "stream",
          "name": "stdout",
          "text": [
            "Model: \"vgg16\"\n",
            "_________________________________________________________________\n",
            " Layer (type)                Output Shape              Param #   \n",
            "=================================================================\n",
            " input_1 (InputLayer)        [(None, 200, 200, 3)]     0         \n",
            "                                                                 \n",
            " block1_conv1 (Conv2D)       (None, 200, 200, 64)      1792      \n",
            "                                                                 \n",
            " block1_conv2 (Conv2D)       (None, 200, 200, 64)      36928     \n",
            "                                                                 \n",
            " block1_pool (MaxPooling2D)  (None, 100, 100, 64)      0         \n",
            "                                                                 \n",
            " block2_conv1 (Conv2D)       (None, 100, 100, 128)     73856     \n",
            "                                                                 \n",
            " block2_conv2 (Conv2D)       (None, 100, 100, 128)     147584    \n",
            "                                                                 \n",
            " block2_pool (MaxPooling2D)  (None, 50, 50, 128)       0         \n",
            "                                                                 \n",
            " block3_conv1 (Conv2D)       (None, 50, 50, 256)       295168    \n",
            "                                                                 \n",
            " block3_conv2 (Conv2D)       (None, 50, 50, 256)       590080    \n",
            "                                                                 \n",
            " block3_conv3 (Conv2D)       (None, 50, 50, 256)       590080    \n",
            "                                                                 \n",
            " block3_pool (MaxPooling2D)  (None, 25, 25, 256)       0         \n",
            "                                                                 \n",
            " block4_conv1 (Conv2D)       (None, 25, 25, 512)       1180160   \n",
            "                                                                 \n",
            " block4_conv2 (Conv2D)       (None, 25, 25, 512)       2359808   \n",
            "                                                                 \n",
            " block4_conv3 (Conv2D)       (None, 25, 25, 512)       2359808   \n",
            "                                                                 \n",
            " block4_pool (MaxPooling2D)  (None, 12, 12, 512)       0         \n",
            "                                                                 \n",
            " block5_conv1 (Conv2D)       (None, 12, 12, 512)       2359808   \n",
            "                                                                 \n",
            " block5_conv2 (Conv2D)       (None, 12, 12, 512)       2359808   \n",
            "                                                                 \n",
            " block5_conv3 (Conv2D)       (None, 12, 12, 512)       2359808   \n",
            "                                                                 \n",
            " block5_pool (MaxPooling2D)  (None, 6, 6, 512)         0         \n",
            "                                                                 \n",
            "=================================================================\n",
            "Total params: 14,714,688\n",
            "Trainable params: 14,714,688\n",
            "Non-trainable params: 0\n",
            "_________________________________________________________________\n"
          ]
        }
      ]
    },
    {
      "cell_type": "markdown",
      "metadata": {
        "id": "OEeQ9WXTLA6i"
      },
      "source": [
        "This base model is sufficient for the purposes of this task thus all the weights for every layer can be frozen. This saves siginificant time and computational power. "
      ]
    },
    {
      "cell_type": "code",
      "metadata": {
        "id": "YTziRl8BK64Y"
      },
      "source": [
        "# This freezes the weights of our VGG16 pretrained model.\n",
        "for layer in base_model.layers:  \n",
        "    layer.trainable = False"
      ],
      "execution_count": 13,
      "outputs": []
    },
    {
      "cell_type": "markdown",
      "metadata": {
        "id": "HhTrIRPbLMCB"
      },
      "source": [
        "### Part A) Building the Classifier\n",
        "All that is necessary to create a new model is adding a flatten layer, a trainable dense layer, and a final softmax layer to the network to complete the classifier model for our gesture recognition task. This approach uses the Keras' functional approach to building a network."
      ]
    },
    {
      "cell_type": "code",
      "metadata": {
        "id": "YstHSchOLM7N",
        "colab": {
          "base_uri": "https://localhost:8080/"
        },
        "outputId": "5b2a7a29-66e3-483b-eb5f-44ef5e10f30a"
      },
      "source": [
        "# Adds layers to the pre-trained base model and adds the classification layers on top of it\n",
        "\n",
        "x =  tf.keras.layers.Flatten()(base_model.output)\n",
        "x = tf.keras.layers.Dense(128, activation='relu')(x)\n",
        "x = tf.keras.layers.Dense(29, activation = 'softmax')(x)\n",
        "\n",
        "model = Model(inputs = base_model.input, outputs = x) \n",
        "\n",
        "model.summary()"
      ],
      "execution_count": 15,
      "outputs": [
        {
          "output_type": "stream",
          "name": "stdout",
          "text": [
            "Model: \"model\"\n",
            "_________________________________________________________________\n",
            " Layer (type)                Output Shape              Param #   \n",
            "=================================================================\n",
            " input_1 (InputLayer)        [(None, 200, 200, 3)]     0         \n",
            "                                                                 \n",
            " block1_conv1 (Conv2D)       (None, 200, 200, 64)      1792      \n",
            "                                                                 \n",
            " block1_conv2 (Conv2D)       (None, 200, 200, 64)      36928     \n",
            "                                                                 \n",
            " block1_pool (MaxPooling2D)  (None, 100, 100, 64)      0         \n",
            "                                                                 \n",
            " block2_conv1 (Conv2D)       (None, 100, 100, 128)     73856     \n",
            "                                                                 \n",
            " block2_conv2 (Conv2D)       (None, 100, 100, 128)     147584    \n",
            "                                                                 \n",
            " block2_pool (MaxPooling2D)  (None, 50, 50, 128)       0         \n",
            "                                                                 \n",
            " block3_conv1 (Conv2D)       (None, 50, 50, 256)       295168    \n",
            "                                                                 \n",
            " block3_conv2 (Conv2D)       (None, 50, 50, 256)       590080    \n",
            "                                                                 \n",
            " block3_conv3 (Conv2D)       (None, 50, 50, 256)       590080    \n",
            "                                                                 \n",
            " block3_pool (MaxPooling2D)  (None, 25, 25, 256)       0         \n",
            "                                                                 \n",
            " block4_conv1 (Conv2D)       (None, 25, 25, 512)       1180160   \n",
            "                                                                 \n",
            " block4_conv2 (Conv2D)       (None, 25, 25, 512)       2359808   \n",
            "                                                                 \n",
            " block4_conv3 (Conv2D)       (None, 25, 25, 512)       2359808   \n",
            "                                                                 \n",
            " block4_pool (MaxPooling2D)  (None, 12, 12, 512)       0         \n",
            "                                                                 \n",
            " block5_conv1 (Conv2D)       (None, 12, 12, 512)       2359808   \n",
            "                                                                 \n",
            " block5_conv2 (Conv2D)       (None, 12, 12, 512)       2359808   \n",
            "                                                                 \n",
            " block5_conv3 (Conv2D)       (None, 12, 12, 512)       2359808   \n",
            "                                                                 \n",
            " block5_pool (MaxPooling2D)  (None, 6, 6, 512)         0         \n",
            "                                                                 \n",
            " flatten_15 (Flatten)        (None, 18432)             0         \n",
            "                                                                 \n",
            " dense_29 (Dense)            (None, 128)               2359424   \n",
            "                                                                 \n",
            " dense_30 (Dense)            (None, 29)                3741      \n",
            "                                                                 \n",
            "=================================================================\n",
            "Total params: 17,077,853\n",
            "Trainable params: 2,363,165\n",
            "Non-trainable params: 14,714,688\n",
            "_________________________________________________________________\n"
          ]
        }
      ]
    },
    {
      "cell_type": "markdown",
      "metadata": {
        "id": "YMnWikXkLczn"
      },
      "source": [
        "### Part B) Initializing Training Parameters\n",
        "\n",
        "Compile the model using an appropriate loss function and optimizer."
      ]
    },
    {
      "cell_type": "code",
      "metadata": {
        "id": "vqWwKwCBLhyZ"
      },
      "source": [
        "# Compile the model.\n",
        "model.compile(optimizer = 'adam', loss = tf.losses.CategoricalCrossentropy(), metrics=['accuracy'])"
      ],
      "execution_count": 16,
      "outputs": []
    },
    {
      "cell_type": "markdown",
      "metadata": {
        "id": "bUWfx4vYtblN"
      },
      "source": [
        "### Part C) Training the Model\n",
        "\n"
      ]
    },
    {
      "cell_type": "code",
      "metadata": {
        "id": "MX8s_zv6qM9G"
      },
      "source": [
        "# Preprocess the input image data\n",
        "\n",
        "final_training = training_images.map(lambda x, y: (x*(1./255), y))\n",
        "final_validation = validation_images.map(lambda x, y: (x*(1./255), y))"
      ],
      "execution_count": 17,
      "outputs": []
    },
    {
      "cell_type": "code",
      "metadata": {
        "id": "m9U0HITqLl-7",
        "colab": {
          "base_uri": "https://localhost:8080/"
        },
        "outputId": "0f81e4a3-4c3b-43a0-ee0a-96d6c1d53da6"
      },
      "source": [
        "# Train the model\n",
        "\n",
        "history = model.fit( final_training, validation_data=final_validation, epochs=3)"
      ],
      "execution_count": 18,
      "outputs": [
        {
          "output_type": "stream",
          "name": "stdout",
          "text": [
            "Epoch 1/3\n",
            "4350/4350 [==============================] - 201s 46ms/step - loss: 1.3302 - accuracy: 0.5626 - val_loss: 0.7630 - val_accuracy: 0.7625\n",
            "Epoch 2/3\n",
            "4350/4350 [==============================] - 199s 46ms/step - loss: 0.5858 - accuracy: 0.8175 - val_loss: 0.5107 - val_accuracy: 0.8375\n",
            "Epoch 3/3\n",
            "4350/4350 [==============================] - 199s 46ms/step - loss: 0.3871 - accuracy: 0.8866 - val_loss: 0.3094 - val_accuracy: 0.9163\n"
          ]
        }
      ]
    },
    {
      "cell_type": "code",
      "metadata": {
        "id": "cyezuk-2M1Gq",
        "colab": {
          "base_uri": "https://localhost:8080/",
          "height": 313
        },
        "outputId": "874fd2fc-750f-469c-cec2-a8531d4464a3"
      },
      "source": [
        "# Plot the training curve\n",
        "\n",
        "plt.plot(history.history['accuracy'] )\n",
        "plt.plot(history.history['val_accuracy'] )\n",
        "\n",
        "plt.title('Transfer model accuracy')\n",
        "plt.ylabel('accuracy')\n",
        "plt.xlabel('epoch')\n",
        "plt.legend([\"train\", \"test\"], loc='upper left')\n",
        "plt.show()\n",
        "print(history.history[\"accuracy\"])"
      ],
      "execution_count": 19,
      "outputs": [
        {
          "output_type": "display_data",
          "data": {
            "text/plain": [
              "<Figure size 432x288 with 1 Axes>"
            ],
            "image/png": "[encoded data removed]"
          },
          "metadata": {
            "needs_background": "light"
          }
        },
        {
          "output_type": "stream",
          "name": "stdout",
          "text": [
            "[0.5626437067985535, 0.8174569010734558, 0.8866091966629028]\n"
          ]
        }
      ]
    },
    {
      "cell_type": "markdown",
      "metadata": {
        "id": "1Y8v3jO4jIMU"
      },
      "source": [
        "### Part D) The Best Transferred Classifier\n",
        "\n"
      ]
    },
    {
      "cell_type": "code",
      "metadata": {
        "id": "rXDiG-cdgsyZ",
        "colab": {
          "base_uri": "https://localhost:8080/",
          "height": 718
        },
        "outputId": "254577b7-1fd9-4419-8431-e8db476c71b2"
      },
      "source": [
        "n_history = []\n",
        "nodes = [32,64,128,256]\n",
        "for n in nodes:\n",
        "    z = 0\n",
        "    z =  tf.keras.layers.Flatten()(base_model.output)\n",
        "    z = tf.keras.layers.Dense(128, activation='relu')(z)\n",
        "    z = tf.keras.layers.Dense(len(classes), activation = 'softmax')(z)\n",
        "    temp = Model(inputs = base_model.input, outputs = z) \n",
        "    temp.compile(optimizer = 'adam', loss = tf.losses.CategoricalCrossentropy(), metrics=['accuracy'])\n",
        "    n_history.append( temp.fit( final_training, validation_data=final_validation, epochs=3))\n",
        "\n",
        "\n",
        "for nh in n_history:\n",
        "    plt.plot(nh.history['accuracy'])\n",
        "plt.title('node models accuracy')\n",
        "plt.ylabel('accuracy')\n",
        "plt.xlabel('epoch')\n",
        "plt.legend([str(n) for n in nodes], loc='upper left')\n",
        "plt.show()"
      ],
      "execution_count": null,
      "outputs": [
        {
          "output_type": "stream",
          "name": "stdout",
          "text": [
            "Epoch 1/3\n",
            "4350/4350 [==============================] - 177s 41ms/step - loss: 0.3654 - accuracy: 0.9048 - val_loss: 0.0913 - val_accuracy: 0.9703\n",
            "Epoch 2/3\n",
            "4350/4350 [==============================] - 174s 40ms/step - loss: 0.0435 - accuracy: 0.9875 - val_loss: 0.0187 - val_accuracy: 0.9945\n",
            "Epoch 3/3\n",
            "4350/4350 [==============================] - 175s 40ms/step - loss: 0.0269 - accuracy: 0.9914 - val_loss: 0.0082 - val_accuracy: 0.9982\n",
            "Epoch 1/3\n",
            "4350/4350 [==============================] - 176s 40ms/step - loss: 0.3418 - accuracy: 0.9096 - val_loss: 0.0743 - val_accuracy: 0.9775\n",
            "Epoch 2/3\n",
            "4350/4350 [==============================] - 175s 40ms/step - loss: 0.0426 - accuracy: 0.9873 - val_loss: 0.0404 - val_accuracy: 0.9858\n",
            "Epoch 3/3\n",
            "4350/4350 [==============================] - 176s 40ms/step - loss: 0.0295 - accuracy: 0.9903 - val_loss: 0.0245 - val_accuracy: 0.9919\n",
            "Epoch 1/3\n",
            "4350/4350 [==============================] - 177s 40ms/step - loss: 0.3585 - accuracy: 0.9056 - val_loss: 0.0654 - val_accuracy: 0.9805\n",
            "Epoch 2/3\n",
            "4350/4350 [==============================] - 176s 40ms/step - loss: 0.0429 - accuracy: 0.9876 - val_loss: 0.0156 - val_accuracy: 0.9961\n",
            "Epoch 3/3\n",
            "4350/4350 [==============================] - 175s 40ms/step - loss: 0.0269 - accuracy: 0.9912 - val_loss: 0.0063 - val_accuracy: 0.9981\n",
            "Epoch 1/3\n",
            "4350/4350 [==============================] - 176s 40ms/step - loss: 0.4505 - accuracy: 0.8810 - val_loss: 0.0684 - val_accuracy: 0.9857\n",
            "Epoch 2/3\n",
            "4350/4350 [==============================] - 176s 40ms/step - loss: 0.0522 - accuracy: 0.9859 - val_loss: 0.0386 - val_accuracy: 0.9887\n",
            "Epoch 3/3\n",
            "4350/4350 [==============================] - 177s 41ms/step - loss: 0.0301 - accuracy: 0.9913 - val_loss: 0.0286 - val_accuracy: 0.9906\n"
          ]
        },
        {
          "output_type": "display_data",
          "data": {
            "image/png": "[encoded data removed]",
            "text/plain": [
              "<Figure size 432x288 with 1 Axes>"
            ]
          },
          "metadata": {
            "needs_background": "light"
          }
        }
      ]
    },
    {
      "cell_type": "markdown",
      "metadata": {
        "id": "oPZB5dK0DXIF"
      },
      "source": [
        "Best accuracy achieved was 99.14 but all node amounts I tried in the dense layer were within a very small margin of that number. "
      ]
    },
    {
      "cell_type": "markdown",
      "source": [
        "#Conclusion:\n",
        "---\n",
        "\n",
        "After searching for the best model from scratch and comparing the process to utilizing transfer learning for sign language detection here is what I learned. First, there are insanely capable models that need almost no training for challenging tasks, and are accessible in one line of code. These models are likely larger than one you may attempt to train yourself thus requiring more memory, but is advantageous when getting started. At the very least, these pre-trained models should be considered as a baseline comparison when implementing a model for a new specific task. In this case, the models both achieved > 99% validation accuracy on detecting the correct sign language gestures which is likely due to well labeled data within a massive corpus to train on (87000 labeled images were used between training and validation). The process of determining the best hyperparameters is also a challenge when training from scratch and should be considered an added cost to be aware of. The main take away from this project is well labeled data is far more important that any model design. Later applications can include using these models to predict per frame of a video of someone gesturing all of the signs. Testing on a real world scenario will uncover whether the models require improvement. "
      ],
      "metadata": {
        "id": "TnSNXP-osOP3"
      }
    },
    {
      "cell_type": "markdown",
      "source": [
        "# Credits:\n",
        "\n",
        "Distinguished Professor at University of California at Santa Cruz [Narges Norouzi](https://nargesnorouzi.me/) \n"
      ],
      "metadata": {
        "id": "r0YeQVrFw0uo"
      }
    }
  ]
}